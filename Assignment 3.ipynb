{
 "cells": [
  {
   "cell_type": "code",
   "execution_count": 1,
   "metadata": {},
   "outputs": [
    {
     "name": "stdout",
     "output_type": "stream",
     "text": [
      "Enter first value 5\n",
      "Enter second value 3\n",
      "Enter valid operator ^\n",
      "125 answer\n"
     ]
    }
   ],
   "source": [
    "val1 = int(input('Enter first value '))\n",
    "val2 = int(input('Enter second value '))\n",
    "operator = input('Enter valid operator ')\n",
    "\n",
    "if operator == '+':\n",
    "    val = val1 + val2\n",
    "    print(val, 'answer')\n",
    "elif operator == '-':\n",
    "    val = val1 - val2\n",
    "    print(val, 'answer')\n",
    "elif operator == '*':\n",
    "    val = val1 / val2\n",
    "    print(val, 'answer')\n",
    "elif operator == '^':\n",
    "    val = val1 ** val2\n",
    "    print(val, 'answer')\n",
    "else:\n",
    "    print('Enter correct operator')"
   ]
  },
  {
   "cell_type": "code",
   "execution_count": 2,
   "metadata": {},
   "outputs": [
    {
     "name": "stdout",
     "output_type": "stream",
     "text": [
      "{'Match': '267', 'First_Name': 'Alex', 'Last_Name': 'Hales', 'Country': 'England', 'Role': 'Batsman'}\n"
     ]
    }
   ],
   "source": [
    "Player_detail = {\n",
    "    \"Match\": \"267\",\n",
    "    \"First_Name\": \"Alex\",\n",
    "    \"Last_Name\": \"Hales\",\n",
    "    \"Country\": \"England\"\n",
    "}\n",
    "Player_detail[\"Role\"] = \"Batsman\"\n",
    "print(Player_detail)"
   ]
  },
  {
   "cell_type": "code",
   "execution_count": 3,
   "metadata": {},
   "outputs": [
    {
     "name": "stdout",
     "output_type": "stream",
     "text": [
      "Total sum:\n",
      "800\n"
     ]
    }
   ],
   "source": [
    "a={'a':100,'b':400,'c':300}\n",
    "print(\"Total sum:\")\n",
    "print(sum(a.values()))"
   ]
  },
  {
   "cell_type": "code",
   "execution_count": 4,
   "metadata": {},
   "outputs": [
    {
     "name": "stdout",
     "output_type": "stream",
     "text": [
      "[10, 11, 25, 32, 20]\n"
     ]
    }
   ],
   "source": [
    "def Remove(duplicate): \n",
    "    final_list = [] \n",
    "    for num in duplicate: \n",
    "        if num not in final_list: \n",
    "            final_list.append(num) \n",
    "    return final_list \n",
    "      \n",
    "duplicate = [10, 11, 25, 32, 11, 10, 20, 25] \n",
    "print(Remove(duplicate))"
   ]
  },
  {
   "cell_type": "code",
   "execution_count": 5,
   "metadata": {},
   "outputs": [
    {
     "name": "stdout",
     "output_type": "stream",
     "text": [
      "Enter value Zafar\n",
      "Key does not exist\n"
     ]
    }
   ],
   "source": [
    "names = {\"Ali\": 12, \"Asghar\": 247, \"Jaffar\":45, \"Abdullah\":329}\n",
    "user = input('Enter value ')\n",
    "if user in names.keys():\n",
    "    print('It is present')\n",
    "else:\n",
    "            print('Key does not exist')"
   ]
  },
  {
   "cell_type": "code",
   "execution_count": null,
   "metadata": {},
   "outputs": [],
   "source": []
  }
 ],
 "metadata": {
  "kernelspec": {
   "display_name": "Python 3",
   "language": "python",
   "name": "python3"
  },
  "language_info": {
   "codemirror_mode": {
    "name": "ipython",
    "version": 3
   },
   "file_extension": ".py",
   "mimetype": "text/x-python",
   "name": "python",
   "nbconvert_exporter": "python",
   "pygments_lexer": "ipython3",
   "version": "3.7.4"
  }
 },
 "nbformat": 4,
 "nbformat_minor": 2
}
