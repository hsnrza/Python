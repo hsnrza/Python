{
 "cells": [
  {
   "cell_type": "code",
   "execution_count": 1,
   "metadata": {},
   "outputs": [
    {
     "name": "stdout",
     "output_type": "stream",
     "text": [
      "Enter First Subject: 78\n",
      "Enter Second Subject: 98\n",
      "Enter Third Subject: 67\n",
      "Enter Fourth Subject: 59\n",
      "Enter Fifth Subject: 89\n",
      "Grade: C\n",
      "Total Marks: 391\n"
     ]
    }
   ],
   "source": [
    "sub1 = int(input(\"Enter First Subject: \"))\n",
    "sub2 = int(input(\"Enter Second Subject: \")) \n",
    "sub3 = int(input(\"Enter Third Subject: \"))\n",
    "sub4 = int(input(\"Enter Fourth Subject: \"))\n",
    "sub5 = int(input(\"Enter Fifth Subject: \"))\n",
    "avg = (sub1+sub2+sub3+sub4+sub5)/5\n",
    "if(avg>=90):\n",
    "    \n",
    " print(\"Grade: A\")\n",
    "elif(avg>=80):\n",
    " print(\"Grade: B\")\n",
    "elif(avg>=70):\n",
    " print(\"Grade: C\")\n",
    "elif(avg>=60):\n",
    " print(\"Grade: D\")\n",
    "else:\n",
    " print(\"Grade: F\")\n",
    "\n",
    "Total = sub1+sub2+sub3+sub4+sub5\n",
    "print(\"Total Marks:\",Total)\n"
   ]
  },
  {
   "cell_type": "code",
   "execution_count": 2,
   "metadata": {},
   "outputs": [
    {
     "name": "stdout",
     "output_type": "stream",
     "text": [
      "Enter Number79\n",
      "79 Num is odd\n"
     ]
    }
   ],
   "source": [
    "\n",
    "num = int(input(\"Enter Number\"))\n",
    "if (num % 2 == 0):\n",
    " print(num, \"Num is Even\")\n",
    "else:\n",
    " print(num, \"Num is odd\")"
   ]
  },
  {
   "cell_type": "code",
   "execution_count": 3,
   "metadata": {},
   "outputs": [
    {
     "name": "stdout",
     "output_type": "stream",
     "text": [
      "Length of List: 10\n"
     ]
    }
   ],
   "source": [
    "list=[1,2,3,4,5,43,43,21,55,67]\n",
    "print(\"Length of List:\",len(list))"
   ]
  },
  {
   "cell_type": "code",
   "execution_count": 4,
   "metadata": {},
   "outputs": [
    {
     "name": "stdout",
     "output_type": "stream",
     "text": [
      "10\n"
     ]
    }
   ],
   "source": [
    "mylist = [2, 2, 2, 2, 2];\n",
    "total = sum(mylist);\n",
    "\n",
    "print(total)"
   ]
  },
  {
   "cell_type": "code",
   "execution_count": 5,
   "metadata": {},
   "outputs": [
    {
     "name": "stdout",
     "output_type": "stream",
     "text": [
      "Largest num is: 100\n"
     ]
    }
   ],
   "source": [
    "mylist = [14, 19, 41, 49, 100]\n",
    "\n",
    "print(\"Largest num is:\", max(mylist))"
   ]
  },
  {
   "cell_type": "code",
   "execution_count": 6,
   "metadata": {},
   "outputs": [
    {
     "name": "stdout",
     "output_type": "stream",
     "text": [
      "1\n",
      "1\n",
      "2\n",
      "3\n"
     ]
    }
   ],
   "source": [
    "a= [1, 1, 2, 3, 5, 8, 13, 21, 34, 55, 89]\n",
    "for i in a:\n",
    "  if i<5:\n",
    "    print(i)"
   ]
  },
  {
   "cell_type": "code",
   "execution_count": null,
   "metadata": {},
   "outputs": [],
   "source": []
  }
 ],
 "metadata": {
  "kernelspec": {
   "display_name": "Python 3",
   "language": "python",
   "name": "python3"
  },
  "language_info": {
   "codemirror_mode": {
    "name": "ipython",
    "version": 3
   },
   "file_extension": ".py",
   "mimetype": "text/x-python",
   "name": "python",
   "nbconvert_exporter": "python",
   "pygments_lexer": "ipython3",
   "version": "3.7.4"
  }
 },
 "nbformat": 4,
 "nbformat_minor": 2
}
